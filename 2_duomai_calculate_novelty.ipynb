{
 "cells": [
  {
   "cell_type": "markdown",
   "metadata": {},
   "source": [
    "# Calculate novelty using posts as unit"
   ]
  },
  {
   "cell_type": "code",
   "execution_count": null,
   "metadata": {},
   "outputs": [],
   "source": [
    "import pandas as pd\n",
    "from utils import *\n",
    "\n",
    "analysis_unit = 'posts'\n",
    "\n",
    "csv_file = f'./data/xhs/{analysis_unit}_clean.csv'\n",
    "df = pd.read_csv(csv_file,\n",
    "                 index_col='user_id',\n",
    "                 parse_dates=['post_date','crawl_date'])\n",
    "users = pd.read_csv(f'./data/xhs/users_clean.csv',\n",
    "                    index_col='index',\n",
    "                    parse_dates=['post_date','crawl_date'])[['kol_level']]\n",
    "df = df.join(users)\n",
    "df = df.set_index('index')\n",
    "df = convert_key_tag_top_novelty(df)\n",
    "\n",
    "for novel_col in ['tags']:\n",
    "    for kol_level in range(5):\n",
    "        for time_int in ['d']:\n",
    "            df_ = df[df['kol_level']==kol_level]\n",
    "            df_ = get_novelty(df_,novel_col,time_int)\n",
    "            df_.to_csv(f'./results/{analysis_unit}_\\\n",
    "{kol_level}_{novel_col}_{time_int}.csv')"
   ]
  },
  {
   "cell_type": "markdown",
   "metadata": {},
   "source": [
    "# Calculate novelty using users as unit"
   ]
  },
  {
   "cell_type": "code",
   "execution_count": 2,
   "metadata": {},
   "outputs": [
    {
     "name": "stdout",
     "output_type": "stream",
     "text": [
      "opening...: ./data/xhs/users_clean.csv\n"
     ]
    },
    {
     "name": "stderr",
     "output_type": "stream",
     "text": [
      "2500it [00:00, 17531.64it/s]\n",
      "2500it [00:00, 22100.41it/s]\n",
      "2500it [00:00, 22042.61it/s]\n"
     ]
    },
    {
     "name": "stdout",
     "output_type": "stream",
     "text": [
      "[]\n",
      "[]\n",
      "[]\n",
      "[]\n",
      "[]\n",
      "[]\n",
      "[]\n",
      "[]\n",
      "[]\n",
      "[]\n",
      "[]\n",
      "[]\n",
      "[]\n",
      "[]\n",
      "[]\n",
      "[]\n",
      "['美食分享', '护肤', '深圳', '旅游']\n"
     ]
    },
    {
     "name": "stderr",
     "output_type": "stream",
     "text": [
      "17/21: 4it [00:00, 135.18it/s]\n"
     ]
    },
    {
     "name": "stdout",
     "output_type": "stream",
     "text": [
      "['香水', '唱歌', '杭州', '艺术', '育儿', '黄皮', '学前教育', '阅读写作', '帅哥', '干皮']\n"
     ]
    },
    {
     "name": "stderr",
     "output_type": "stream",
     "text": [
      "18/21: 17it [00:00, 81.93it/s]\n"
     ]
    },
    {
     "name": "stdout",
     "output_type": "stream",
     "text": [
      "['开箱', '玩具', '绘画', '深圳', '油画', '化妆师', '夫妻', '鞋靴', '旅游', 'ootd']\n"
     ]
    },
    {
     "name": "stderr",
     "output_type": "stream",
     "text": [
      "19/21: 158it [00:16,  9.52it/s]\n"
     ]
    },
    {
     "name": "stdout",
     "output_type": "stream",
     "text": [
      "['西安', '开箱', '玩具', '绘画', '深圳', '测评', '文具手账', '沙雕搞笑', '夫妻', '鞋靴']\n"
     ]
    },
    {
     "name": "stderr",
     "output_type": "stream",
     "text": [
      "20/21: 267it [01:13,  3.62it/s]\n"
     ]
    },
    {
     "name": "stdout",
     "output_type": "stream",
     "text": [
      "['diy', '眼部', '美食', '玩具', '护肤', '绘画', '深圳', '彩妆', '高知人群', '情感知识']\n"
     ]
    },
    {
     "name": "stderr",
     "output_type": "stream",
     "text": [
      "21/21: 24it [00:00, 39.16it/s]\n"
     ]
    },
    {
     "name": "stdout",
     "output_type": "stream",
     "text": [
      "[]\n",
      "[]\n",
      "[]\n",
      "[]\n",
      "[]\n",
      "[]\n",
      "['美食教程', '辣妹', '玩具', '护肤', '插画师', '彩妆', '装修', '合集', '插画', 'ootd']\n"
     ]
    },
    {
     "name": "stderr",
     "output_type": "stream",
     "text": [
      "7/9: 10it [00:00, 37.07it/s]\n"
     ]
    },
    {
     "name": "stdout",
     "output_type": "stream",
     "text": [
      "['敏感肌', '西安', '开箱', '香港', '玩具', '绘画', '深圳', '测评', '文具手账', '家庭']\n"
     ]
    },
    {
     "name": "stderr",
     "output_type": "stream",
     "text": [
      "8/9: 287it [02:16,  2.10it/s]\n"
     ]
    },
    {
     "name": "stdout",
     "output_type": "stream",
     "text": [
      "['网络游戏', '西安', '敏感肌', '开箱', '玩具', '绘画', '深圳', '测评', '文具手账', '沙雕搞笑']\n"
     ]
    },
    {
     "name": "stderr",
     "output_type": "stream",
     "text": [
      "9/9: 192it [00:49,  3.86it/s]\n"
     ]
    },
    {
     "name": "stdout",
     "output_type": "stream",
     "text": [
      "[]\n",
      "[]\n",
      "[]\n",
      "[]\n",
      "[]\n",
      "[]\n",
      "[]\n",
      "['时尚潮流', '眼部']\n",
      "[]\n",
      "['拍摄', '教程', 'ootd', '摄影技巧', '小个子穿搭', '时尚潮流']\n",
      "['时尚潮流', '数码爱好者', '眼部']\n",
      "[]\n",
      "['广州', '主持人', '育儿', '干货', '教程', '美食分享', '护肤', '汽车', '收纳师', '家居收纳']\n"
     ]
    },
    {
     "name": "stderr",
     "output_type": "stream",
     "text": [
      "13/15: 7it [00:00, 116.52it/s]\n"
     ]
    },
    {
     "name": "stdout",
     "output_type": "stream",
     "text": [
      "['网络游戏', '敏感肌', '开箱', '香港', '玩具', '绘画', '深圳', '测评', '哈尔滨', '厨师']\n"
     ]
    },
    {
     "name": "stderr",
     "output_type": "stream",
     "text": [
      "14/15: 266it [02:12,  2.01it/s]\n"
     ]
    },
    {
     "name": "stdout",
     "output_type": "stream",
     "text": [
      "['网络游戏', '敏感肌', '开箱', '香港', '玩具', '绘画', '科普', '测评', '深圳', '家庭']\n"
     ]
    },
    {
     "name": "stderr",
     "output_type": "stream",
     "text": [
      "15/15: 211it [01:17,  2.72it/s]\n"
     ]
    },
    {
     "name": "stdout",
     "output_type": "stream",
     "text": [
      "[]\n",
      "[]\n",
      "[]\n",
      "[]\n",
      "[]\n",
      "['美食教程', '护肤', '情感知识', '装修', '合集', '教练', '美食分享', 'ootd', '运动', '上海']\n"
     ]
    },
    {
     "name": "stderr",
     "output_type": "stream",
     "text": [
      "6/8: 9it [00:00, 33.84it/s]\n"
     ]
    },
    {
     "name": "stdout",
     "output_type": "stream",
     "text": [
      "['网络游戏', '敏感肌', '开箱', '绘画', '科普', '测评', '家庭', '沙雕搞笑', '化妆师', '夫妻']\n"
     ]
    },
    {
     "name": "stderr",
     "output_type": "stream",
     "text": [
      "7/8: 291it [02:25,  2.00it/s]\n"
     ]
    },
    {
     "name": "stdout",
     "output_type": "stream",
     "text": [
      "['网络游戏', '开箱', '玩具', '绘画', '深圳', '测评', '科普', '文具手账', '沙雕搞笑', '油画']\n"
     ]
    },
    {
     "name": "stderr",
     "output_type": "stream",
     "text": [
      "8/8: 194it [01:09,  2.77it/s]\n"
     ]
    },
    {
     "name": "stdout",
     "output_type": "stream",
     "text": [
      "[]\n",
      "[]\n",
      "['白富美']\n",
      "[]\n",
      "['明星', '#明星']\n",
      "['香水', '法国', '网络游戏', '大理', '情感日常', '时尚潮流', '旅游', '美食分享', '运动', '护肤']\n"
     ]
    },
    {
     "name": "stderr",
     "output_type": "stream",
     "text": [
      "6/8: 8it [00:00, 101.37it/s]\n"
     ]
    },
    {
     "name": "stdout",
     "output_type": "stream",
     "text": [
      "['网络游戏', '敏感肌', '开箱', '玩具', '绘画', '科普', '测评', '文具手账', '家庭', '沙雕搞笑']\n"
     ]
    },
    {
     "name": "stderr",
     "output_type": "stream",
     "text": [
      "7/8: 301it [02:14,  2.25it/s]\n"
     ]
    },
    {
     "name": "stdout",
     "output_type": "stream",
     "text": [
      "['网络游戏', '敏感肌', '开箱', '香港', '玩具', '绘画', '深圳', '测评', '文具手账', '家庭']\n"
     ]
    },
    {
     "name": "stderr",
     "output_type": "stream",
     "text": [
      "8/8: 185it [01:03,  2.90it/s]\n"
     ]
    }
   ],
   "source": [
    "import pandas as pd\n",
    "from utils import *\n",
    "\n",
    "analysis_unit = 'users'\n",
    "\n",
    "csv_file = f'./data/xhs/{analysis_unit}_clean.csv'\n",
    "print('opening...:',csv_file)\n",
    "df = pd.read_csv(csv_file,\n",
    "                 index_col='index',\n",
    "                 parse_dates=['post_date','crawl_date'])\n",
    "\n",
    "df = convert_key_tag_top_novelty(df,'crawl_date')\n",
    "\n",
    "for novel_col in ['tags']:\n",
    "    for kol_level in range(5):\n",
    "        for time_int in ['d']:\n",
    "            df_ = df[df['kol_level']==kol_level]\n",
    "            df_ = get_novelty(df_,novel_col,time_int)\n",
    "            df_.to_csv(f'./results/{analysis_unit}_\\\n",
    "{kol_level}_{novel_col}_{time_int}.csv')"
   ]
  }
 ],
 "metadata": {
  "kernelspec": {
   "display_name": "video_env_1",
   "language": "python",
   "name": "video_env_1"
  },
  "language_info": {
   "codemirror_mode": {
    "name": "ipython",
    "version": 3
   },
   "file_extension": ".py",
   "mimetype": "text/x-python",
   "name": "python",
   "nbconvert_exporter": "python",
   "pygments_lexer": "ipython3",
   "version": "3.7.7"
  }
 },
 "nbformat": 4,
 "nbformat_minor": 2
}
