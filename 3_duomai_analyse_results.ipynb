{
 "cells": [
  {
   "cell_type": "code",
   "execution_count": null,
   "metadata": {},
   "outputs": [],
   "source": [
    "import os\n",
    "import pandas as pd\n",
    "import numpy as np\n",
    "import pingouin as pg\n",
    "import matplotlib.pyplot as plt"
   ]
  },
  {
   "cell_type": "code",
   "execution_count": null,
   "metadata": {},
   "outputs": [],
   "source": [
    "def regress_users(DV = 'like_count'):\n",
    "\n",
    "    for kol_level in range(5):\n",
    "\n",
    "        fp = f'./results/users_{kol_level}_tags_d.csv'\n",
    "        df = pd.read_csv(fp,index_col='index')\n",
    "        df = df[~df['novelty_median'].isin([np.inf,np.NaN])]\n",
    "        print('N =',df.shape[0])\n",
    "        print('DV =',DV)\n",
    "        print('KOL =',kol_level)\n",
    "        lm = pg.linear_regression(df[['novelty_median','post_count','gender']],\n",
    "                                  df[DV],remove_na=True)\n",
    "        lm = lm.round(3).set_index('names').loc[:,['coef','pval','r2']]\n",
    "        lm.index.name = ''\n",
    "        print(lm,'\\n','\\n','\\n')"
   ]
  },
  {
   "cell_type": "code",
   "execution_count": null,
   "metadata": {},
   "outputs": [],
   "source": [
    "regress_users('fan_count')"
   ]
  },
  {
   "cell_type": "code",
   "execution_count": null,
   "metadata": {},
   "outputs": [],
   "source": [
    "regress_users('like_count')"
   ]
  },
  {
   "cell_type": "code",
   "execution_count": null,
   "metadata": {},
   "outputs": [],
   "source": [
    "regress_users('collect_count')"
   ]
  },
  {
   "cell_type": "code",
   "execution_count": null,
   "metadata": {},
   "outputs": [],
   "source": [
    "for kol_level in range(2):\n",
    "\n",
    "    fp = f'./results/posts_{kol_level}_tags_d.csv'\n",
    "    df = pd.read_csv(fp,index_col='index')\n",
    "    df = df[~df['novelty_median'].isin([np.inf,np.NaN])]\n",
    "    print('N =',df.shape[0])\n",
    "    print('DV =','post_like')\n",
    "    print('KOL =',kol_level)\n",
    "    df_ = df[['novelty_median','if_video',\n",
    "          'if_cooperate','n_keywords','n_tags','n_topics','post_like']]\n",
    "    lm = pg.linear_regression(df_[['novelty_median','if_video',\n",
    "                                  'if_cooperate',\n",
    "                                  'n_keywords','n_tags','n_topics']],\n",
    "                              df_['post_like'],remove_na=True)\n",
    "    lm = lm.round(3).set_index('names').loc[:,['coef','pval','r2']]\n",
    "    lm.index.name = ''\n",
    "    print(lm,'\\n','\\n','\\n')"
   ]
  },
  {
   "cell_type": "code",
   "execution_count": null,
   "metadata": {},
   "outputs": [],
   "source": [
    "for kol_level in range(2):\n",
    "\n",
    "    fp = f'./results/posts_{kol_level}_tags_d.csv'\n",
    "    df = pd.read_csv(fp,index_col='index')\n",
    "    df = df[~df['novelty_median'].isin([np.inf,np.NaN])]\n",
    "    print('N =',df.shape[0])\n",
    "    print('DV =','post_favorite_count')\n",
    "    print('KOL =',kol_level)\n",
    "    df_ = df[['novelty_median','if_video',\n",
    "          'if_cooperate','n_keywords','n_tags','n_topics','post_favorite_count']]\n",
    "    lm = pg.linear_regression(df_[['novelty_median','if_video',\n",
    "                                  'if_cooperate',\n",
    "                                  'n_keywords','n_tags','n_topics']],\n",
    "                              df_['post_favorite_count'],remove_na=True)\n",
    "    lm = lm.round(3).set_index('names').loc[:,['coef','pval','r2']]\n",
    "    lm.index.name = ''\n",
    "    print(lm,'\\n','\\n','\\n')"
   ]
  },
  {
   "cell_type": "code",
   "execution_count": null,
   "metadata": {},
   "outputs": [],
   "source": []
  }
 ],
 "metadata": {
  "kernelspec": {
   "display_name": "pingouin",
   "language": "python",
   "name": "pingouin"
  },
  "language_info": {
   "codemirror_mode": {
    "name": "ipython",
    "version": 3
   },
   "file_extension": ".py",
   "mimetype": "text/x-python",
   "name": "python",
   "nbconvert_exporter": "python",
   "pygments_lexer": "ipython3",
   "version": "3.8.13"
  }
 },
 "nbformat": 4,
 "nbformat_minor": 2
}
